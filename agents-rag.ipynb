{
 "cells": [
  {
   "cell_type": "code",
   "execution_count": 19,
   "id": "9035dd07-4ad4-4a25-b371-0d313871a252",
   "metadata": {},
   "outputs": [],
   "source": [
    "import pinecone\n",
    "import os\n",
    "from dotenv import load_dotenv\n",
    "from pinecone import Pinecone\n",
    "from langchain_openai import ChatOpenAI, OpenAIEmbeddings\n",
    "from langchain_pinecone import PineconeVectorStore\n",
    "from langchain_core.output_parsers import StrOutputParser\n",
    "from langchain_core.runnables import RunnablePassthrough\n",
    "from langchain import hub\n",
    "from langchain_core.prompts import PromptTemplate\n",
    "from langchain_community.tools.tavily_search import TavilySearchResults\n",
    "from langchain.tools.retriever import create_retriever_tool\n",
    "from langchain.agents import create_tool_calling_agent, create_react_agent\n",
    "from langchain.agents import AgentExecutor"
   ]
  },
  {
   "cell_type": "code",
   "execution_count": 3,
   "id": "3ef5c28f-c333-4dbb-8c9b-a15752b26034",
   "metadata": {},
   "outputs": [
    {
     "data": {
      "text/plain": [
       "True"
      ]
     },
     "execution_count": 3,
     "metadata": {},
     "output_type": "execute_result"
    }
   ],
   "source": [
    "# Load environment variables\n",
    "load_dotenv()"
   ]
  },
  {
   "cell_type": "markdown",
   "id": "8a30e962-e658-4a89-8601-384d3414113a",
   "metadata": {},
   "source": [
    "# Setting up Tools"
   ]
  },
  {
   "cell_type": "code",
   "execution_count": 4,
   "id": "bc2212f1-ef90-469e-a122-68e8689c852b",
   "metadata": {},
   "outputs": [],
   "source": [
    "pc = Pinecone(api_key=os.getenv('PINECONE_API_KEY'))\n",
    "index = pc.Index(\"restaurant-info-medium-testing\")"
   ]
  },
  {
   "cell_type": "code",
   "execution_count": 5,
   "id": "3a09701a-4dd4-4edd-9e71-9dd0ec1e3d62",
   "metadata": {},
   "outputs": [],
   "source": [
    "embeddings_model = OpenAIEmbeddings(api_key=os.getenv('OPENAI_API_KEY'),\n",
    "                                        model=\"text-embedding-3-small\")"
   ]
  },
  {
   "cell_type": "code",
   "execution_count": 6,
   "id": "b43ace9a-1e94-4760-8a85-b1663dead7c1",
   "metadata": {},
   "outputs": [],
   "source": [
    "vector_store = PineconeVectorStore(index=index, embedding=embeddings_model)"
   ]
  },
  {
   "cell_type": "code",
   "execution_count": 7,
   "id": "8ec3381c-9789-4737-b0d8-32f047957094",
   "metadata": {},
   "outputs": [],
   "source": [
    "search = TavilySearchResults(max_results=3)"
   ]
  },
  {
   "cell_type": "code",
   "execution_count": 8,
   "id": "f822fdf8-bdae-423b-a018-b3f1ad370ee7",
   "metadata": {},
   "outputs": [
    {
     "data": {
      "text/plain": [
       "[{'url': 'https://www.latimes.com/food/list/the-best-sushi-bars-in-los-angeles',\n",
       "  'content': 'For eight years, from 2012 to 2020, Shunji occupied the wildest, most only-in-Los-Angeles location for a sushi bar possible: a stuccoed 1930s-era building shaped like a soup bowl.'},\n",
       " {'url': 'https://www.yelp.com/search?find_desc=sushi&find_loc=Los+Angeles,+CA',\n",
       "  'content': 'Top 10 Best sushi Near Los Angeles, California. 1. Yeon Omakase and Sushi. 2. Izakaya Osen - Los Angeles. 3. Chubby Cattle Little Tokyo. 4. Hato Sushi.'},\n",
       " {'url': 'https://la.eater.com/maps/los-angeles-best-sushi-restaurants-omakase',\n",
       "  'content': 'Soko also offers beautiful bento takeout and delivery for those wanting quality sushi at home or in the office. Open in Google Maps. Foursquare. 101 Wilshire Blvd, Santa Monica, CA 90401. (310 ...'}]"
      ]
     },
     "execution_count": 8,
     "metadata": {},
     "output_type": "execute_result"
    }
   ],
   "source": [
    "search.invoke(\"Where is sushi in Los Angeles\")"
   ]
  },
  {
   "cell_type": "code",
   "execution_count": 9,
   "id": "ba74821c-47b9-4d42-878b-a5840e2e6e40",
   "metadata": {},
   "outputs": [],
   "source": [
    "retriever = vector_store.as_retriever(k=1)"
   ]
  },
  {
   "cell_type": "code",
   "execution_count": 10,
   "id": "3c96f9d3-122f-48a0-966d-9f795d10cbfe",
   "metadata": {},
   "outputs": [
    {
     "data": {
      "text/plain": [
       "Document(id='fc165d3d-c44c-470c-9217-b83cfe78a4cf', metadata={'address': '116 Japanese Village Plaza Mall, Los Angeles, CA 90012, USA', 'name': 'Sushi & Teri', 'place_id': 'ChIJizyr7UfGwoARt2VuQwQ0eIw', 'rating': 4.1}, page_content='Sushi & Teri is a small, inexpensive Japanese restaurant located in Little Tokyo, offering a variety of sushi rolls, ramen, miso soup, and cucumber salad. Customers generally feel that the food is decent but not exceptional, with notable mentions of the Alaska and Baja rolls, Washington roll, ramen served piping hot, and the cucumber salad. Key pros include friendly service, affordable prices, and the convenience of ordering via tablet, while cons revolve around long wait times, understaffing issues, and smaller portion sizes compared to nearby restaurants.')"
      ]
     },
     "execution_count": 10,
     "metadata": {},
     "output_type": "execute_result"
    }
   ],
   "source": [
    "retriever.invoke(\"where is sushi\")[0]"
   ]
  },
  {
   "cell_type": "code",
   "execution_count": 11,
   "id": "ce1bd7ad-8d73-4690-b7a7-c26a24f4e04e",
   "metadata": {},
   "outputs": [],
   "source": [
    "retriever_tool = create_retriever_tool(\n",
    "    retriever,\n",
    "    \"restaurant_search\",\n",
    "    \"Search for information about restaurants in Los Angeles. If user prompts for restauraunts, USE THIS TOOL BY DEFAULT!\",\n",
    ")"
   ]
  },
  {
   "cell_type": "code",
   "execution_count": 12,
   "id": "800cc450-a76b-40a7-8b06-843ca5f3d4f6",
   "metadata": {},
   "outputs": [],
   "source": [
    "tools = [search, retriever_tool]"
   ]
  },
  {
   "cell_type": "code",
   "execution_count": 13,
   "id": "8670aed3-b493-4be5-8405-e9e08b74afbb",
   "metadata": {},
   "outputs": [],
   "source": [
    "llm = ChatOpenAI(model=\"gpt-4o-mini\")"
   ]
  },
  {
   "cell_type": "code",
   "execution_count": 14,
   "id": "0a007e0f-42dc-4a70-9d91-9d3ec3b48563",
   "metadata": {},
   "outputs": [
    {
     "data": {
      "text/plain": [
       "AIMessage(content='As of October 2023, LeBron James is playing for the Los Angeles Lakers in the NBA. If you need more specific information or updates, please let me know!', additional_kwargs={'refusal': None}, response_metadata={'token_usage': {'completion_tokens': 35, 'prompt_tokens': 12, 'total_tokens': 47, 'completion_tokens_details': {'reasoning_tokens': 0}, 'prompt_tokens_details': {'cached_tokens': 0}}, 'model_name': 'gpt-4o-mini-2024-07-18', 'system_fingerprint': 'fp_f85bea6784', 'finish_reason': 'stop', 'logprobs': None}, id='run-c73d3c57-7ce4-45fb-b6e2-fcf593d08612-0', usage_metadata={'input_tokens': 12, 'output_tokens': 35, 'total_tokens': 47})"
      ]
     },
     "execution_count": 14,
     "metadata": {},
     "output_type": "execute_result"
    }
   ],
   "source": [
    "llm.invoke(\"where is lebron currently\", temperature=0.1)"
   ]
  },
  {
   "cell_type": "code",
   "execution_count": 15,
   "id": "c1debb9f-f57c-46ef-86be-f31bfbacdbf8",
   "metadata": {},
   "outputs": [],
   "source": [
    "prompt = hub.pull(\"hwchase17/openai-functions-agent\")"
   ]
  },
  {
   "cell_type": "markdown",
   "id": "2792d20e-6f85-4c1d-9c3b-02e70406c726",
   "metadata": {},
   "source": [
    "## Creating Agent + Executor"
   ]
  },
  {
   "cell_type": "code",
   "execution_count": 16,
   "id": "530f2be2-ed29-4c57-8592-7430bbbb3562",
   "metadata": {},
   "outputs": [],
   "source": [
    "agent = create_tool_calling_agent(llm, tools, prompt)"
   ]
  },
  {
   "cell_type": "code",
   "execution_count": 17,
   "id": "3353722a-2fd3-4643-b920-334e843eb6e9",
   "metadata": {},
   "outputs": [],
   "source": [
    "agent_executor = AgentExecutor(agent=agent, tools=tools, verbose=True)"
   ]
  },
  {
   "cell_type": "code",
   "execution_count": 18,
   "id": "35732d29-0f5c-4bc4-b58a-26feeb342d7b",
   "metadata": {},
   "outputs": [
    {
     "name": "stdout",
     "output_type": "stream",
     "text": [
      "\n",
      "\n",
      "\u001b[1m> Entering new AgentExecutor chain...\u001b[0m\n",
      "\u001b[32;1m\u001b[1;3m\n",
      "Invoking: `restaurant_search` with `{'query': 'Sushi Gen Los Angeles'}`\n",
      "\n",
      "\n",
      "\u001b[0m\u001b[33;1m\u001b[1;3mSushi Gen is a well-regarded sushi restaurant in LA known for its fast service and high-quality, fresh fish. Customers rave about specific items such as the toro (fatty tuna), fatty salmon, sashimi deluxe, and the $23 lunch special, which is considered a great value. While many patrons appreciate the quality and service, some express disappointment over long wait times, inconsistent experiences with certain menu items like the deluxe sushi set, and the restaurant's outdated decor. The price range is considered expensive. Overall, the sentiment is largely positive, with a few notable criticisms.\n",
      "\n",
      "Sushi Kaneyoshi in LA is a highly praised sushi restaurant offering an omakase experience that includes dishes like oyster, monkfish liver (ankimo), mackerel handroll, and tamago. Customers generally feel positively about the restaurant, appreciating the fresh fish, authentic Japanese setting, and craftsmanship, although some express concerns about the difficulty of securing reservations and the lack of dessert or additional courses. Key pros include the quality of seafood and the restaurant's authentic vibe, while key cons include the limited seating leading to less intimacy and the potential for disruptive patrons. The price range is not specified. Overall, the restaurant is described as refined and superb, with a touch of Los Angeles flair.\n",
      "\n",
      "Tamon Sushi is a cozy Japanese restaurant located on the second floor of the Miyako Hotel in Downtown Los Angeles, known for its authentic Washoku and pleasant ambiance. Customers have mixed feelings; while many appreciate the fresh seafood and the restaurant's happy hour offerings, others criticize certain food preparations, such as the salmon sashimi and wagyu sushi, which did not meet their expectations. The menu includes items like Fatty Fish nigiri set, Senior Bento, Chirashi, Wonton Shio Ramen, Garlic Butter Pork Gyoza, and Garlic Tonkotsu Ramen. Pros include friendly staff, a calm atmosphere, and a great happy hour, while cons mention the undesirable texture of some dishes and inconsistent food quality, with a price range described as moderate ($20-$50).\n",
      "\n",
      "Tenno Sushi in Little Tokyo offers a diverse menu featuring sushi and sashimi lunch combos, miso pork belly, mixed tempura, various sushi rolls (including spider roll, rainbow roll, and Jessica Alba roll), scallop uni, miso soup, spicy seafood miso soup, oysters, and salmon skin salad. Customers appreciate the freshness of the food, generous portion sizes, and the vibrant atmosphere, often praising the attentive service despite the restaurant being busy. Pros include the quality of the sushi and the variety of options, while cons mention limited parking and a slightly dark interior ambiance. The restaurant is moderately priced and is described as a solid spot surrounded by other Japanese shops and eateries.\u001b[0m\u001b[32;1m\u001b[1;3mSushi Gen is a well-regarded sushi restaurant located in Los Angeles. It is known for its fast service and high-quality, fresh fish. Some popular menu items include:\n",
      "\n",
      "- **Toro (fatty tuna)**\n",
      "- **Fatty salmon**\n",
      "- **Sashimi deluxe**\n",
      "- **$23 lunch special**, which is considered a great value\n",
      "\n",
      "While many customers appreciate the quality and service, some have noted long wait times and occasional inconsistencies with certain menu items, particularly the deluxe sushi set. The restaurant's decor has been described as somewhat outdated, and the price range is considered expensive. Overall, the sentiment towards Sushi Gen is largely positive, with a few criticisms.\u001b[0m\n",
      "\n",
      "\u001b[1m> Finished chain.\u001b[0m\n"
     ]
    },
    {
     "data": {
      "text/plain": [
       "{'input': 'where is sushi gen and what food does it have?',\n",
       " 'output': \"Sushi Gen is a well-regarded sushi restaurant located in Los Angeles. It is known for its fast service and high-quality, fresh fish. Some popular menu items include:\\n\\n- **Toro (fatty tuna)**\\n- **Fatty salmon**\\n- **Sashimi deluxe**\\n- **$23 lunch special**, which is considered a great value\\n\\nWhile many customers appreciate the quality and service, some have noted long wait times and occasional inconsistencies with certain menu items, particularly the deluxe sushi set. The restaurant's decor has been described as somewhat outdated, and the price range is considered expensive. Overall, the sentiment towards Sushi Gen is largely positive, with a few criticisms.\"}"
      ]
     },
     "execution_count": 18,
     "metadata": {},
     "output_type": "execute_result"
    }
   ],
   "source": [
    "agent_executor.invoke({\"input\": \"where is sushi gen and what food does it have?\"})"
   ]
  },
  {
   "cell_type": "markdown",
   "id": "ff80d50f-9405-4576-a39d-bd8173e5f83b",
   "metadata": {},
   "source": [
    "## Creating reACT Agent"
   ]
  },
  {
   "cell_type": "code",
   "execution_count": 30,
   "id": "96515aa5-ee31-48a2-9f5c-88f449905260",
   "metadata": {},
   "outputs": [
    {
     "name": "stdout",
     "output_type": "stream",
     "text": [
      "Answer the following questions as best you can. You have access to the following tools:\n",
      "\n",
      "{tools}\n",
      "\n",
      "Use the following format:\n",
      "\n",
      "Question: the input question you must answer\n",
      "Thought: you should always think about what to do\n",
      "Action: the action to take, should be one of [{tool_names}]\n",
      "Action Input: the input to the action\n",
      "Observation: the result of the action\n",
      "... (this Thought/Action/Action Input/Observation can repeat N times)\n",
      "Thought: I now know the final answer\n",
      "Final Answer: the final answer to the original input question\n",
      "\n",
      "Begin!\n",
      "\n",
      "Question: {input}\n",
      "Thought:{agent_scratchpad}\n"
     ]
    }
   ],
   "source": [
    "prompt = hub.pull(\"hwchase17/react\")\n",
    "print(prompt.template)\n"
   ]
  },
  {
   "cell_type": "code",
   "execution_count": 31,
   "id": "24eba1bd-8915-4abc-ac0b-a65fc2d6a6df",
   "metadata": {},
   "outputs": [],
   "source": [
    "# Construct the ReAct agent\n",
    "agent = create_react_agent(llm, tools, prompt)"
   ]
  },
  {
   "cell_type": "code",
   "execution_count": 32,
   "id": "89d95051-a271-4045-bd54-c7413f7c2dd5",
   "metadata": {},
   "outputs": [],
   "source": [
    "# Create an agent executor by passing in the agent and tools\n",
    "agent_executor = AgentExecutor(agent=agent, tools=tools, verbose=True)"
   ]
  },
  {
   "cell_type": "code",
   "execution_count": 34,
   "id": "0b7c8d59-061a-49c5-b6f9-af2a712e2661",
   "metadata": {},
   "outputs": [
    {
     "name": "stdout",
     "output_type": "stream",
     "text": [
      "\n",
      "\n",
      "\u001b[1m> Entering new AgentExecutor chain...\u001b[0m\n",
      "\u001b[32;1m\u001b[1;3mI need to find information about Sushi Gen, including what type of food it serves and its address. Since this is about a restaurant, I will use the restaurant search tool.\n",
      "\n",
      "Action: restaurant_search  \n",
      "Action Input: 'Sushi Gen Los Angeles'  \u001b[0m\u001b[33;1m\u001b[1;3mSushi Gen is a well-regarded sushi restaurant in LA known for its fast service and high-quality, fresh fish. Customers rave about specific items such as the toro (fatty tuna), fatty salmon, sashimi deluxe, and the $23 lunch special, which is considered a great value. While many patrons appreciate the quality and service, some express disappointment over long wait times, inconsistent experiences with certain menu items like the deluxe sushi set, and the restaurant's outdated decor. The price range is considered expensive. Overall, the sentiment is largely positive, with a few notable criticisms.\n",
      "\n",
      "Sushi Kaneyoshi in LA is a highly praised sushi restaurant offering an omakase experience that includes dishes like oyster, monkfish liver (ankimo), mackerel handroll, and tamago. Customers generally feel positively about the restaurant, appreciating the fresh fish, authentic Japanese setting, and craftsmanship, although some express concerns about the difficulty of securing reservations and the lack of dessert or additional courses. Key pros include the quality of seafood and the restaurant's authentic vibe, while key cons include the limited seating leading to less intimacy and the potential for disruptive patrons. The price range is not specified. Overall, the restaurant is described as refined and superb, with a touch of Los Angeles flair.\n",
      "\n",
      "Tamon Sushi is a cozy Japanese restaurant located on the second floor of the Miyako Hotel in Downtown Los Angeles, known for its authentic Washoku and pleasant ambiance. Customers have mixed feelings; while many appreciate the fresh seafood and the restaurant's happy hour offerings, others criticize certain food preparations, such as the salmon sashimi and wagyu sushi, which did not meet their expectations. The menu includes items like Fatty Fish nigiri set, Senior Bento, Chirashi, Wonton Shio Ramen, Garlic Butter Pork Gyoza, and Garlic Tonkotsu Ramen. Pros include friendly staff, a calm atmosphere, and a great happy hour, while cons mention the undesirable texture of some dishes and inconsistent food quality, with a price range described as moderate ($20-$50).\n",
      "\n",
      "Tenno Sushi in Little Tokyo offers a diverse menu featuring sushi and sashimi lunch combos, miso pork belly, mixed tempura, various sushi rolls (including spider roll, rainbow roll, and Jessica Alba roll), scallop uni, miso soup, spicy seafood miso soup, oysters, and salmon skin salad. Customers appreciate the freshness of the food, generous portion sizes, and the vibrant atmosphere, often praising the attentive service despite the restaurant being busy. Pros include the quality of the sushi and the variety of options, while cons mention limited parking and a slightly dark interior ambiance. The restaurant is moderately priced and is described as a solid spot surrounded by other Japanese shops and eateries.\u001b[0m\u001b[32;1m\u001b[1;3mI have gathered detailed information about Sushi Gen, including its type of food and other relevant aspects. \n",
      "\n",
      "Final Answer: Sushi Gen is a well-regarded sushi restaurant in Los Angeles known for its high-quality, fresh fish, offering classic sushi dishes. The address is typically located in the Little Tokyo area of Los Angeles. However, I recommend checking a reliable map or restaurant directory for the exact address, as it wasn't specified in the search results.\u001b[0m\n",
      "\n",
      "\u001b[1m> Finished chain.\u001b[0m\n"
     ]
    },
    {
     "data": {
      "text/plain": [
       "{'input': 'what is sushi gen and what type of food is it? also give me the address',\n",
       " 'output': \"Sushi Gen is a well-regarded sushi restaurant in Los Angeles known for its high-quality, fresh fish, offering classic sushi dishes. The address is typically located in the Little Tokyo area of Los Angeles. However, I recommend checking a reliable map or restaurant directory for the exact address, as it wasn't specified in the search results.\"}"
      ]
     },
     "execution_count": 34,
     "metadata": {},
     "output_type": "execute_result"
    }
   ],
   "source": [
    "agent_executor.invoke({\"input\": \"what is sushi gen and what type of food is it? also give me the address\"})"
   ]
  },
  {
   "cell_type": "code",
   "execution_count": 35,
   "id": "4e50294b-5068-4601-878f-4e5fe99d2334",
   "metadata": {},
   "outputs": [
    {
     "name": "stdout",
     "output_type": "stream",
     "text": [
      "\n",
      "\n",
      "\u001b[1m> Entering new AgentExecutor chain...\u001b[0m\n",
      "\u001b[32;1m\u001b[1;3mI should search for the current weather conditions in California. \n",
      "Action: tavily_search_results_json\n",
      "Action Input: \"current weather in California\" \u001b[0m\u001b[36;1m\u001b[1;3m[{'url': 'https://www.weatherapi.com/', 'content': \"{'location': {'name': 'California City', 'region': 'California', 'country': 'United States of America', 'lat': 35.13, 'lon': -117.99, 'tz_id': 'America/Los_Angeles', 'localtime_epoch': 1727908180, 'localtime': '2024-10-02 15:29'}, 'current': {'last_updated_epoch': 1727907300, 'last_updated': '2024-10-02 15:15', 'temp_c': 40.5, 'temp_f': 104.9, 'is_day': 1, 'condition': {'text': 'Sunny', 'icon': '//cdn.weatherapi.com/weather/64x64/day/113.png', 'code': 1000}, 'wind_mph': 5.6, 'wind_kph': 9.0, 'wind_degree': 174, 'wind_dir': 'S', 'pressure_mb': 1012.0, 'pressure_in': 29.88, 'precip_mm': 0.0, 'precip_in': 0.0, 'humidity': 8, 'cloud': 0, 'feelslike_c': 40.7, 'feelslike_f': 105.2, 'windchill_c': 39.3, 'windchill_f': 102.7, 'heatindex_c': 38.9, 'heatindex_f': 102.0, 'dewpoint_c': -0.6, 'dewpoint_f': 30.9, 'vis_km': 13.0, 'vis_miles': 8.0, 'uv': 9.0, 'gust_mph': 6.4, 'gust_kph': 10.4}}\"}, {'url': 'https://www.nytimes.com/2024/10/02/weather/california-bay-area-heat-wave.html', 'content': 'Oct. 2, 2024 Updated 4:02 p.m. ET San Francisco, where even the postcards feature fog, rarely sees temperatures over 90 degrees. Even more rarely does the coastal California city see such ...'}, {'url': 'https://www.abc10.com/article/weather/california-la-nina-winter-wet-dry-conditions-rain-update/103-b00dc542-a681-40c0-998d-439e356a2de4', 'content': 'Updated: 9:58 AM PDT September 13, 2024. CALIFORNIA, USA — After the collapse of the global phenomenon known as El Nino, its counterpart La Nina is developing and set to return within months ...'}]\u001b[0m\u001b[32;1m\u001b[1;3mThe current weather in California is quite warm, with temperatures reaching around 104.9°F (40.5°C) in certain areas. The weather is sunny with low humidity at 8%. Winds are mild at 5.6 mph, and there is no precipitation. \n",
      "\n",
      "Final Answer: The weather in California right now is sunny with a temperature of approximately 104.9°F (40.5°C) and low humidity at 8%.\u001b[0m\n",
      "\n",
      "\u001b[1m> Finished chain.\u001b[0m\n"
     ]
    },
    {
     "data": {
      "text/plain": [
       "{'input': 'what is the weather in california right now',\n",
       " 'output': 'The weather in California right now is sunny with a temperature of approximately 104.9°F (40.5°C) and low humidity at 8%.'}"
      ]
     },
     "execution_count": 35,
     "metadata": {},
     "output_type": "execute_result"
    }
   ],
   "source": [
    "agent_executor.invoke({\"input\": \"what is the weather in california right now\"})"
   ]
  },
  {
   "cell_type": "code",
   "execution_count": null,
   "id": "5af46375-f87c-4a9d-afce-f6b7f99bf15c",
   "metadata": {},
   "outputs": [],
   "source": []
  }
 ],
 "metadata": {
  "kernelspec": {
   "display_name": "agents",
   "language": "python",
   "name": "agents"
  },
  "language_info": {
   "codemirror_mode": {
    "name": "ipython",
    "version": 3
   },
   "file_extension": ".py",
   "mimetype": "text/x-python",
   "name": "python",
   "nbconvert_exporter": "python",
   "pygments_lexer": "ipython3",
   "version": "3.10.14"
  }
 },
 "nbformat": 4,
 "nbformat_minor": 5
}
