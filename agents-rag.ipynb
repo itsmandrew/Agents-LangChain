{
 "cells": [
  {
   "cell_type": "code",
   "execution_count": 17,
   "id": "9035dd07-4ad4-4a25-b371-0d313871a252",
   "metadata": {},
   "outputs": [],
   "source": [
    "import pinecone\n",
    "import os\n",
    "from dotenv import load_dotenv\n",
    "from pinecone import Pinecone\n",
    "from langchain_openai import ChatOpenAI, OpenAIEmbeddings\n",
    "from langchain_pinecone import PineconeVectorStore\n",
    "from langchain_core.output_parsers import StrOutputParser\n",
    "from langchain_core.runnables import RunnablePassthrough\n",
    "from langchain import hub\n",
    "from langchain_core.prompts import PromptTemplate\n",
    "from langchain_community.tools.tavily_search import TavilySearchResults\n",
    "from langchain.tools.retriever import create_retriever_tool\n",
    "from langchain.agents import create_tool_calling_agent\n",
    "from langchain.agents import AgentExecutor"
   ]
  },
  {
   "cell_type": "code",
   "execution_count": 2,
   "id": "3ef5c28f-c333-4dbb-8c9b-a15752b26034",
   "metadata": {},
   "outputs": [
    {
     "data": {
      "text/plain": [
       "True"
      ]
     },
     "execution_count": 2,
     "metadata": {},
     "output_type": "execute_result"
    }
   ],
   "source": [
    "# Load environment variables\n",
    "load_dotenv()"
   ]
  },
  {
   "cell_type": "markdown",
   "id": "8a30e962-e658-4a89-8601-384d3414113a",
   "metadata": {},
   "source": [
    "# Setting up Tools"
   ]
  },
  {
   "cell_type": "code",
   "execution_count": 3,
   "id": "bc2212f1-ef90-469e-a122-68e8689c852b",
   "metadata": {},
   "outputs": [],
   "source": [
    "pc = Pinecone(api_key=os.getenv('PINECONE_API_KEY'))\n",
    "index = pc.Index(\"restaurant-info-medium-testing\")"
   ]
  },
  {
   "cell_type": "code",
   "execution_count": 4,
   "id": "3a09701a-4dd4-4edd-9e71-9dd0ec1e3d62",
   "metadata": {},
   "outputs": [],
   "source": [
    "embeddings_model = OpenAIEmbeddings(api_key=os.getenv('OPENAI_API_KEY'),\n",
    "                                        model=\"text-embedding-3-small\")"
   ]
  },
  {
   "cell_type": "code",
   "execution_count": 5,
   "id": "b43ace9a-1e94-4760-8a85-b1663dead7c1",
   "metadata": {},
   "outputs": [],
   "source": [
    "vector_store = PineconeVectorStore(index=index, embedding=embeddings_model)"
   ]
  },
  {
   "cell_type": "code",
   "execution_count": 6,
   "id": "8ec3381c-9789-4737-b0d8-32f047957094",
   "metadata": {},
   "outputs": [],
   "source": [
    "search = TavilySearchResults(max_results=3)"
   ]
  },
  {
   "cell_type": "code",
   "execution_count": 7,
   "id": "f822fdf8-bdae-423b-a018-b3f1ad370ee7",
   "metadata": {},
   "outputs": [
    {
     "data": {
      "text/plain": [
       "[{'url': 'https://www.yelp.com/search?cflt=sushi&find_loc=Los+Angeles,+CA',\n",
       "  'content': 'Best Sushi Bars in Los Angeles, CA - Sushi by Scratch Restaurants: LA, Sushi Gen, Yeon Omakase and Sushi, Iki Nori, Hato Sushi, Izakaya Osen - Los Angeles, Sakana Sushi Lounge DTLA, Sushi Ye, Murakami, Ariyoshi Sushi Cafe Izakaya'},\n",
       " {'url': 'https://www.timeout.com/los-angeles/restaurants/best-sushi-restaurants-in-la',\n",
       "  'content': \"The best sushi in Los Angeles. Whether you're looking to splurge or save, the best L.A. sushi bars will satisfy your craving for immaculately cut raw fish. Tuesday August 27 2024.\"},\n",
       " {'url': 'https://www.yelp.com/search?find_desc=sushi&find_loc=Los+Angeles,+CA',\n",
       "  'content': 'Top 10 Best sushi Near Los Angeles, California. 1. Yeon Omakase and Sushi. 2. Izakaya Osen - Los Angeles. 3. Chubby Cattle Little Tokyo. 4. Hato Sushi.'}]"
      ]
     },
     "execution_count": 7,
     "metadata": {},
     "output_type": "execute_result"
    }
   ],
   "source": [
    "search.invoke(\"Where is sushi in Los Angeles\")"
   ]
  },
  {
   "cell_type": "code",
   "execution_count": 8,
   "id": "ba74821c-47b9-4d42-878b-a5840e2e6e40",
   "metadata": {},
   "outputs": [],
   "source": [
    "retriever = vector_store.as_retriever(k=1)"
   ]
  },
  {
   "cell_type": "code",
   "execution_count": 9,
   "id": "3c96f9d3-122f-48a0-966d-9f795d10cbfe",
   "metadata": {},
   "outputs": [
    {
     "data": {
      "text/plain": [
       "Document(id='fc165d3d-c44c-470c-9217-b83cfe78a4cf', metadata={'address': '116 Japanese Village Plaza Mall, Los Angeles, CA 90012, USA', 'name': 'Sushi & Teri', 'place_id': 'ChIJizyr7UfGwoARt2VuQwQ0eIw', 'rating': 4.1}, page_content='Sushi & Teri is a small, inexpensive Japanese restaurant located in Little Tokyo, offering a variety of sushi rolls, ramen, miso soup, and cucumber salad. Customers generally feel that the food is decent but not exceptional, with notable mentions of the Alaska and Baja rolls, Washington roll, ramen served piping hot, and the cucumber salad. Key pros include friendly service, affordable prices, and the convenience of ordering via tablet, while cons revolve around long wait times, understaffing issues, and smaller portion sizes compared to nearby restaurants.')"
      ]
     },
     "execution_count": 9,
     "metadata": {},
     "output_type": "execute_result"
    }
   ],
   "source": [
    "retriever.invoke(\"where is sushi\")[0]"
   ]
  },
  {
   "cell_type": "code",
   "execution_count": 10,
   "id": "ce1bd7ad-8d73-4690-b7a7-c26a24f4e04e",
   "metadata": {},
   "outputs": [],
   "source": [
    "retriever_tool = create_retriever_tool(\n",
    "    retriever,\n",
    "    \"restaurant_search\",\n",
    "    \"Search for information about restaurants in Los Angeles. If user prompts for restauraunts, USE THIS TOOL BY DEFAULT!\",\n",
    ")"
   ]
  },
  {
   "cell_type": "code",
   "execution_count": 11,
   "id": "800cc450-a76b-40a7-8b06-843ca5f3d4f6",
   "metadata": {},
   "outputs": [],
   "source": [
    "tools = [search, retriever_tool]"
   ]
  },
  {
   "cell_type": "code",
   "execution_count": 12,
   "id": "8670aed3-b493-4be5-8405-e9e08b74afbb",
   "metadata": {},
   "outputs": [],
   "source": [
    "llm = ChatOpenAI(model=\"gpt-4o-mini\")"
   ]
  },
  {
   "cell_type": "code",
   "execution_count": 13,
   "id": "0a007e0f-42dc-4a70-9d91-9d3ec3b48563",
   "metadata": {},
   "outputs": [
    {
     "data": {
      "text/plain": [
       "AIMessage(content=\"As of October 2023, LeBron James is playing for the Los Angeles Lakers in the NBA. If you need more specific or updated information, please check the latest sports news or the NBA's official website.\", additional_kwargs={'refusal': None}, response_metadata={'token_usage': {'completion_tokens': 43, 'prompt_tokens': 12, 'total_tokens': 55, 'completion_tokens_details': {'reasoning_tokens': 0}, 'prompt_tokens_details': {'cached_tokens': 0}}, 'model_name': 'gpt-4o-mini-2024-07-18', 'system_fingerprint': 'fp_f85bea6784', 'finish_reason': 'stop', 'logprobs': None}, id='run-b1806b6e-808e-428b-a17a-834054b090b7-0', usage_metadata={'input_tokens': 12, 'output_tokens': 43, 'total_tokens': 55})"
      ]
     },
     "execution_count": 13,
     "metadata": {},
     "output_type": "execute_result"
    }
   ],
   "source": [
    "llm.invoke(\"where is lebron currently\", temperature=0.1)"
   ]
  },
  {
   "cell_type": "code",
   "execution_count": 14,
   "id": "c1debb9f-f57c-46ef-86be-f31bfbacdbf8",
   "metadata": {},
   "outputs": [],
   "source": [
    "prompt = hub.pull(\"hwchase17/openai-functions-agent\")"
   ]
  },
  {
   "cell_type": "markdown",
   "id": "2792d20e-6f85-4c1d-9c3b-02e70406c726",
   "metadata": {},
   "source": [
    "## Creating Agent + Executor"
   ]
  },
  {
   "cell_type": "code",
   "execution_count": 15,
   "id": "530f2be2-ed29-4c57-8592-7430bbbb3562",
   "metadata": {},
   "outputs": [],
   "source": [
    "agent = create_tool_calling_agent(llm, tools, prompt)"
   ]
  },
  {
   "cell_type": "code",
   "execution_count": 18,
   "id": "3353722a-2fd3-4643-b920-334e843eb6e9",
   "metadata": {},
   "outputs": [],
   "source": [
    "agent_executor = AgentExecutor(agent=agent, tools=tools, verbose=True)"
   ]
  },
  {
   "cell_type": "code",
   "execution_count": null,
   "id": "35732d29-0f5c-4bc4-b58a-26feeb342d7b",
   "metadata": {},
   "outputs": [],
   "source": []
  }
 ],
 "metadata": {
  "kernelspec": {
   "display_name": "agents",
   "language": "python",
   "name": "agents"
  },
  "language_info": {
   "codemirror_mode": {
    "name": "ipython",
    "version": 3
   },
   "file_extension": ".py",
   "mimetype": "text/x-python",
   "name": "python",
   "nbconvert_exporter": "python",
   "pygments_lexer": "ipython3",
   "version": "3.10.14"
  }
 },
 "nbformat": 4,
 "nbformat_minor": 5
}
