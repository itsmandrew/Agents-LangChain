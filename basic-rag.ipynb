{
 "cells": [
  {
   "cell_type": "code",
   "execution_count": 36,
   "id": "20656b1d-3924-4969-9631-644687f5b83b",
   "metadata": {},
   "outputs": [],
   "source": [
    "import pinecone\n",
    "import os\n",
    "from dotenv import load_dotenv\n",
    "from pinecone import Pinecone\n",
    "from langchain_openai import OpenAI, OpenAIEmbeddings\n",
    "from langchain_pinecone import PineconeVectorStore\n",
    "from langchain_core.output_parsers import StrOutputParser\n",
    "from langchain_core.runnables import RunnablePassthrough\n",
    "from langchain import hub\n",
    "from langchain_core.prompts import PromptTemplate\n"
   ]
  },
  {
   "cell_type": "markdown",
   "id": "2ed8794a-ed41-4c63-9245-bec6a8ded836",
   "metadata": {},
   "source": [
    "# Initialization & Setup"
   ]
  },
  {
   "cell_type": "code",
   "execution_count": 37,
   "id": "5c4bda72-616b-4808-8a12-d50435fea862",
   "metadata": {},
   "outputs": [
    {
     "data": {
      "text/plain": [
       "True"
      ]
     },
     "execution_count": 37,
     "metadata": {},
     "output_type": "execute_result"
    }
   ],
   "source": [
    "# Load environment variables\n",
    "load_dotenv()"
   ]
  },
  {
   "cell_type": "code",
   "execution_count": 38,
   "id": "e22bd2ce-291a-4f03-8fa9-dcab13cdf947",
   "metadata": {},
   "outputs": [],
   "source": [
    "pc = Pinecone(api_key=os.getenv('PINECONE_API_KEY'))\n",
    "index = pc.Index(\"restaurant-info-medium-testing\")"
   ]
  },
  {
   "cell_type": "code",
   "execution_count": 39,
   "id": "426cad8d-5bb5-4418-928a-d55f5c0d1553",
   "metadata": {},
   "outputs": [],
   "source": [
    "embeddings_model = OpenAIEmbeddings(api_key=os.getenv('OPENAI_API_KEY'),\n",
    "                                        model=\"text-embedding-3-small\")"
   ]
  },
  {
   "cell_type": "code",
   "execution_count": 40,
   "id": "009e08b5-5743-4ae7-9b2b-14aa81461b54",
   "metadata": {},
   "outputs": [],
   "source": [
    "vector_store = PineconeVectorStore(index=index, embedding=embeddings_model)"
   ]
  },
  {
   "cell_type": "markdown",
   "id": "924d9c6d-5064-4611-a3d8-3bbf89337d9e",
   "metadata": {},
   "source": [
    "## Running Similarity Search"
   ]
  },
  {
   "cell_type": "code",
   "execution_count": 41,
   "id": "bef857c0-0535-4af0-a38f-e194c0a6ff29",
   "metadata": {},
   "outputs": [
    {
     "name": "stdout",
     "output_type": "stream",
     "text": [
      "* Sushi Kaneyoshi in LA is a highly praised sushi restaurant offering an omakase experience that includes dishes like oyster, monkfish liver (ankimo), mackerel handroll, and tamago. Customers generally feel positively about the restaurant, appreciating the fresh fish, authentic Japanese setting, and craftsmanship, although some express concerns about the difficulty of securing reservations and the lack of dessert or additional courses. Key pros include the quality of seafood and the restaurant's authentic vibe, while key cons include the limited seating leading to less intimacy and the potential for disruptive patrons. The price range is not specified. Overall, the restaurant is described as refined and superb, with a touch of Los Angeles flair. [{'address': '250 1st St B1, Los Angeles, CA 90012, USA', 'name': 'Sushi Kaneyoshi', 'place_id': 'ChIJIXKeGv_HwoARtFSSk2sS2AI', 'rating': 4.7}]\n",
      "\n",
      "* Sushi Gen is a well-regarded sushi restaurant in LA known for its fast service and high-quality, fresh fish. Customers rave about specific items such as the toro (fatty tuna), fatty salmon, sashimi deluxe, and the $23 lunch special, which is considered a great value. While many patrons appreciate the quality and service, some express disappointment over long wait times, inconsistent experiences with certain menu items like the deluxe sushi set, and the restaurant's outdated decor. The price range is considered expensive. Overall, the sentiment is largely positive, with a few notable criticisms. [{'address': '422 E 2nd St, Los Angeles, CA 90012, USA', 'name': 'Sushi Gen', 'place_id': 'ChIJnQsVUDjGwoARcEGiOJrPzZY', 'rating': 4.6}]\n",
      "\n",
      "* Tenno Sushi in Little Tokyo offers a diverse menu featuring sushi and sashimi lunch combos, miso pork belly, mixed tempura, various sushi rolls (including spider roll, rainbow roll, and Jessica Alba roll), scallop uni, miso soup, spicy seafood miso soup, oysters, and salmon skin salad. Customers appreciate the freshness of the food, generous portion sizes, and the vibrant atmosphere, often praising the attentive service despite the restaurant being busy. Pros include the quality of the sushi and the variety of options, while cons mention limited parking and a slightly dark interior ambiance. The restaurant is moderately priced and is described as a solid spot surrounded by other Japanese shops and eateries. [{'address': '207 S Central Ave, Los Angeles, CA 90012, USA', 'name': 'Tenno Sushi', 'place_id': 'ChIJmRcbbTjGwoARNiMWogDPMc8', 'rating': 4.4}]\n",
      "\n"
     ]
    }
   ],
   "source": [
    "results = vector_store.similarity_search(\n",
    "    \"sushi in LA\",\n",
    "    k=3,\n",
    ")\n",
    "for res in results:\n",
    "    print(f\"* {res.page_content} [{res.metadata}]\")\n",
    "    print()"
   ]
  },
  {
   "cell_type": "markdown",
   "id": "cbe014bb-c4a4-496c-b704-a88cf550923f",
   "metadata": {},
   "source": [
    "# Setting Up Chain"
   ]
  },
  {
   "cell_type": "code",
   "execution_count": 42,
   "id": "e64a39e1-2027-4f23-87f9-59325ff15f0d",
   "metadata": {},
   "outputs": [],
   "source": [
    "retriever = vector_store.as_retriever()"
   ]
  },
  {
   "cell_type": "code",
   "execution_count": 92,
   "id": "5136a000-c732-40f6-a6f0-110564866988",
   "metadata": {},
   "outputs": [],
   "source": [
    "template = \"\"\"You are a restaurant search assistant, based off the given context and question I want you to align\n",
    "the user with the most relevant restaurant given the user's question. List ALL out the restaurants in the following format:\n",
    "______________________\n",
    "**Restaurant Name**\\n\n",
    "**Address**\\n\n",
    "**Rating**\\n\n",
    "*Cuisine Type**\\n\n",
    "**Summary and Reviews**\\n\n",
    "_________________________\n",
    "\n",
    "\n",
    "{context}\n",
    "\n",
    "Question: {question}\n",
    "\n",
    "Helpful Answer:\"\"\"\n",
    "custom_rag_prompt = PromptTemplate.from_template(template)"
   ]
  },
  {
   "cell_type": "code",
   "execution_count": 93,
   "id": "13543848-3f2f-4468-8458-a03a5e76980e",
   "metadata": {},
   "outputs": [],
   "source": [
    "llm = OpenAI()"
   ]
  },
  {
   "cell_type": "code",
   "execution_count": 94,
   "id": "1a833bba-6ff0-4822-8f87-8fbf9a86ac05",
   "metadata": {},
   "outputs": [],
   "source": [
    "rag_chain = (\n",
    "    {\"context\": retriever, \"question\": RunnablePassthrough()}\n",
    "    | custom_rag_prompt\n",
    "    | llm\n",
    "    | StrOutputParser()\n",
    ")"
   ]
  },
  {
   "cell_type": "code",
   "execution_count": 95,
   "id": "21e40ac3-a340-49a6-aece-889f85177b61",
   "metadata": {},
   "outputs": [],
   "source": [
    "response = rag_chain.invoke(\"I want a milkshake\")"
   ]
  },
  {
   "cell_type": "markdown",
   "id": "5dc52c1b-7019-4fd5-95a0-bc2a05ac9bae",
   "metadata": {},
   "source": [
    "# Display"
   ]
  },
  {
   "cell_type": "code",
   "execution_count": 96,
   "id": "43de6edb-31e7-46bb-80cc-34d6c8e81869",
   "metadata": {},
   "outputs": [],
   "source": [
    "from IPython.display import display, Markdown"
   ]
  },
  {
   "cell_type": "code",
   "execution_count": 97,
   "id": "df47db47-0825-4942-9f09-116f63db85f6",
   "metadata": {},
   "outputs": [
    {
     "data": {
      "text/markdown": [
       "### Restaurants\n",
       "\n",
       "\n",
       "______________________\n",
       "Croft Alley Beverly Hills\n",
       "\n",
       "9433 Brighton Way, Beverly Hills, CA 90210, USA\n",
       "\n",
       "Rating: 4.3\n",
       "\n",
       "Cuisine Type: Coffee, All-day breakfast, Yogurt, Waffles\n",
       "\n",
       "Summary and Reviews: Croft Alley Beverly Hills is known for its delicious waffles and coffee, including regular lattes and almond milk lattes. However, customers have expressed dissatisfaction with slow service and high prices. The price range is considered moderate, with meals costing around $30 and lattes priced at $7.\n",
       "\n",
       "______________________\n",
       "Sunday Cafe\n",
       "\n",
       "Food court, 400 S Baldwin Ave FC7, Arcadia, CA 91007, USA\n",
       "\n",
       "Rating: 4.8\n",
       "\n",
       "Cuisine Type: Aguas Frescas, Banana Splits, Hot Dogs, Steak Fries, Steak Fajitas, Mexican Rice, Siu Maai & Haa Gow\n",
       "\n",
       "Summary and Reviews: Sunday Cafe, located in the Santa Anita mall food court, is known for its delicious Aguas Frescas in a variety of flavors. Customers also rave about their banana splits, hot dogs, and steak fries. The sentiment is generally positive, highlighting the cafe's delicious food and fun atmosphere.\n",
       "\n",
       "______________________\n",
       "THE Blvd Restaurant and Lounge\n",
       "\n"
      ],
      "text/plain": [
       "<IPython.core.display.Markdown object>"
      ]
     },
     "metadata": {},
     "output_type": "display_data"
    }
   ],
   "source": [
    "# Convert the response to Markdown for better formatting\n",
    "formatted_response = f\"### Restaurants\\n\\n{response}\"\n",
    "\n",
    "# Display the formatted response\n",
    "display(Markdown(formatted_response))"
   ]
  },
  {
   "cell_type": "code",
   "execution_count": 99,
   "id": "85c893c2-4b39-4a22-9409-5bec3e5d52dc",
   "metadata": {},
   "outputs": [
    {
     "name": "stdout",
     "output_type": "stream",
     "text": [
      "\n",
      "Croft Alley Beverly Hills\n",
      "9433 Brighton Way, Beverly Hills, CA 90210, USA\n",
      "4.3\n",
      "Regular lattes, almond milk lattes, all-day breakfast options, yogurt, and waffles.\n",
      "\n",
      "Croft Alley Beverly Hills serves a variety of food items, including regular lattes, almond milk lattes, all-day breakfast options, yogurt, and waffles. Overall, customer sentiment is mixed; while some praise the food quality and coffee, many express dissatisfaction with slow service, high prices, and mandatory tips. Key pros include excellent food and coffee, particularly the waffles, while key cons are slow service, high prices for small portions, and a lack of attentiveness from staff. The price range is considered moderate, with meals costing around $30 and lattes priced at $7. The restaurant has a casual vibe but has received criticism for its service and value.\n"
     ]
    }
   ],
   "source": [
    "response = rag_chain.invoke(\"What is the address of Croft Alley\")\n",
    "print(response)"
   ]
  },
  {
   "cell_type": "code",
   "execution_count": 100,
   "id": "46f01090-835c-4c77-824c-033ca55fa0c0",
   "metadata": {},
   "outputs": [
    {
     "name": "stdout",
     "output_type": "stream",
     "text": [
      "Sushi Gen\n",
      "\n",
      "422 E 2nd St, Los Angeles, CA 90012, USA\n",
      "\n",
      "4.6\n",
      "\n",
      "Japanese\n",
      "\n",
      "Sushi Gen is a well-regarded sushi restaurant in LA known for its fast service and high-quality, fresh fish. Customers rave about specific items such as the toro (fatty tuna), fatty salmon, sashimi deluxe, and the $23 lunch special, which is considered a great value. While many patrons appreciate the quality and service, some express disappointment over long wait times, inconsistent experiences with certain menu items like the deluxe sushi set, and the restaurant's outdated decor. The price range is considered expensive. Overall, the sentiment is largely positive, with a few notable criticisms.\n"
     ]
    }
   ],
   "source": [
    "response = rag_chain.invoke(\"Where is sushi gen\")\n",
    "print(response)"
   ]
  }
 ],
 "metadata": {
  "kernelspec": {
   "display_name": "agents",
   "language": "python",
   "name": "agents"
  },
  "language_info": {
   "codemirror_mode": {
    "name": "ipython",
    "version": 3
   },
   "file_extension": ".py",
   "mimetype": "text/x-python",
   "name": "python",
   "nbconvert_exporter": "python",
   "pygments_lexer": "ipython3",
   "version": "3.10.14"
  }
 },
 "nbformat": 4,
 "nbformat_minor": 5
}
