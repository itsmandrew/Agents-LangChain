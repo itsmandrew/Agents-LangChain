{
 "cells": [
  {
   "cell_type": "code",
   "execution_count": 18,
   "id": "20656b1d-3924-4969-9631-644687f5b83b",
   "metadata": {},
   "outputs": [],
   "source": [
    "import pinecone\n",
    "import os\n",
    "from dotenv import load_dotenv\n",
    "from pinecone import Pinecone\n",
    "from langchain_openai import ChatOpenAI, OpenAIEmbeddings\n",
    "from langchain_pinecone import PineconeVectorStore\n"
   ]
  },
  {
   "cell_type": "markdown",
   "id": "2ed8794a-ed41-4c63-9245-bec6a8ded836",
   "metadata": {},
   "source": [
    "# Initialization & Setup"
   ]
  },
  {
   "cell_type": "code",
   "execution_count": 19,
   "id": "5c4bda72-616b-4808-8a12-d50435fea862",
   "metadata": {},
   "outputs": [
    {
     "data": {
      "text/plain": [
       "True"
      ]
     },
     "execution_count": 19,
     "metadata": {},
     "output_type": "execute_result"
    }
   ],
   "source": [
    "# Load environment variables\n",
    "load_dotenv()"
   ]
  },
  {
   "cell_type": "code",
   "execution_count": 20,
   "id": "e22bd2ce-291a-4f03-8fa9-dcab13cdf947",
   "metadata": {},
   "outputs": [],
   "source": [
    "pc = Pinecone(api_key=os.getenv('PINECONE_API_KEY'))\n",
    "index = pc.Index(\"restaurant-info-medium-testing\")"
   ]
  },
  {
   "cell_type": "code",
   "execution_count": 21,
   "id": "426cad8d-5bb5-4418-928a-d55f5c0d1553",
   "metadata": {},
   "outputs": [],
   "source": [
    "embeddings_model = OpenAIEmbeddings(api_key=os.getenv('OPENAI_API_KEY'),\n",
    "                                        model=\"text-embedding-3-small\")"
   ]
  },
  {
   "cell_type": "code",
   "execution_count": 27,
   "id": "009e08b5-5743-4ae7-9b2b-14aa81461b54",
   "metadata": {},
   "outputs": [],
   "source": [
    "vector_store = PineconeVectorStore(index=index, embedding=embeddings_model)"
   ]
  },
  {
   "cell_type": "code",
   "execution_count": 29,
   "id": "bef857c0-0535-4af0-a38f-e194c0a6ff29",
   "metadata": {},
   "outputs": [
    {
     "name": "stdout",
     "output_type": "stream",
     "text": [
      "* Sushi Kaneyoshi in LA is a highly praised sushi restaurant offering an omakase experience that includes dishes like oyster, monkfish liver (ankimo), mackerel handroll, and tamago. Customers generally feel positively about the restaurant, appreciating the fresh fish, authentic Japanese setting, and craftsmanship, although some express concerns about the difficulty of securing reservations and the lack of dessert or additional courses. Key pros include the quality of seafood and the restaurant's authentic vibe, while key cons include the limited seating leading to less intimacy and the potential for disruptive patrons. The price range is not specified. Overall, the restaurant is described as refined and superb, with a touch of Los Angeles flair. [{'address': '250 1st St B1, Los Angeles, CA 90012, USA', 'name': 'Sushi Kaneyoshi', 'place_id': 'ChIJIXKeGv_HwoARtFSSk2sS2AI', 'rating': 4.7}]\n",
      "\n",
      "* Sushi Gen is a well-regarded sushi restaurant in LA known for its fast service and high-quality, fresh fish. Customers rave about specific items such as the toro (fatty tuna), fatty salmon, sashimi deluxe, and the $23 lunch special, which is considered a great value. While many patrons appreciate the quality and service, some express disappointment over long wait times, inconsistent experiences with certain menu items like the deluxe sushi set, and the restaurant's outdated decor. The price range is considered expensive. Overall, the sentiment is largely positive, with a few notable criticisms. [{'address': '422 E 2nd St, Los Angeles, CA 90012, USA', 'name': 'Sushi Gen', 'place_id': 'ChIJnQsVUDjGwoARcEGiOJrPzZY', 'rating': 4.6}]\n",
      "\n"
     ]
    }
   ],
   "source": [
    "results = vector_store.similarity_search(\n",
    "    \"sushi in LA\",\n",
    "    k=2,\n",
    ")\n",
    "for res in results:\n",
    "    print(f\"* {res.page_content} [{res.metadata}]\")\n",
    "    print()"
   ]
  },
  {
   "cell_type": "code",
   "execution_count": null,
   "id": "a553e8ab-b42e-473d-af58-b6406533f604",
   "metadata": {},
   "outputs": [],
   "source": []
  }
 ],
 "metadata": {
  "kernelspec": {
   "display_name": "Agents-Testing",
   "language": "python",
   "name": "agents-testing"
  },
  "language_info": {
   "codemirror_mode": {
    "name": "ipython",
    "version": 3
   },
   "file_extension": ".py",
   "mimetype": "text/x-python",
   "name": "python",
   "nbconvert_exporter": "python",
   "pygments_lexer": "ipython3",
   "version": "3.10.14"
  }
 },
 "nbformat": 4,
 "nbformat_minor": 5
}
